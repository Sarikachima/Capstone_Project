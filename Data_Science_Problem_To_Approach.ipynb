{
    "cells": [
        {
            "metadata": {
                "collapsed": true
            },
            "cell_type": "markdown",
            "source": "<H1>Problem to Approach</H1>"
        },
        {
            "metadata": {},
            "cell_type": "markdown",
            "source": "<H2> Opening a vegan Restaurant in the City of Perth (The Capital of Western Australia). </H2>"
        },
        {
            "metadata": {},
            "cell_type": "markdown",
            "source": "<H2> Introduction/Business Problem </H2>"
        },
        {
            "metadata": {},
            "cell_type": "markdown",
            "source": "<H3> In city of Perth there are many societies which follow the vegan diet(without animal products). But there are very few Vegan restaurants for such people to visit. As a Data Scientist, I am asked to speculate , whether it would be a lucrative deal to open the vegan restaurant there or not. I want to explore the area according to the neighborhood statistics, and come to a decision.</H3>"
        },
        {
            "metadata": {},
            "cell_type": "code",
            "source": "",
            "execution_count": null,
            "outputs": []
        }
    ],
    "metadata": {
        "kernelspec": {
            "name": "python3",
            "display_name": "Python 3.6",
            "language": "python"
        },
        "language_info": {
            "name": "python",
            "version": "3.6.9",
            "mimetype": "text/x-python",
            "codemirror_mode": {
                "name": "ipython",
                "version": 3
            },
            "pygments_lexer": "ipython3",
            "nbconvert_exporter": "python",
            "file_extension": ".py"
        }
    },
    "nbformat": 4,
    "nbformat_minor": 1
}